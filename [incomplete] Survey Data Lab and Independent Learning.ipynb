{
 "cells": [
  {
   "cell_type": "code",
   "execution_count": 1,
   "id": "ac37734e",
   "metadata": {},
   "outputs": [],
   "source": [
    "import pandas as pd\n",
    "import numpy as np"
   ]
  },
  {
   "cell_type": "code",
   "execution_count": 2,
   "id": "052ff6f5",
   "metadata": {},
   "outputs": [
    {
     "name": "stdout",
     "output_type": "stream",
     "text": [
      "  age     n  alcohol-use  alcohol-frequency  marijuana-use  \\\n",
      "0  12  2798          3.9                3.0            1.1   \n",
      "1  13  2757          8.5                6.0            3.4   \n",
      "2  14  2792         18.1                5.0            8.7   \n",
      "3  15  2956         29.2                6.0           14.5   \n",
      "4  16  3058         40.1               10.0           22.5   \n",
      "\n",
      "   marijuana-frequency  cocaine-use cocaine-frequency  crack-use  \\\n",
      "0                  4.0          0.1               5.0        0.0   \n",
      "1                 15.0          0.1               1.0        0.0   \n",
      "2                 24.0          0.1               5.5        0.0   \n",
      "3                 25.0          0.5               4.0        0.1   \n",
      "4                 30.0          1.0               7.0        0.0   \n",
      "\n",
      "  crack-frequency  ...  oxycontin-use oxycontin-frequency  tranquilizer-use  \\\n",
      "0               -  ...            0.1                24.5               0.2   \n",
      "1             3.0  ...            0.1                41.0               0.3   \n",
      "2               -  ...            0.4                 4.5               0.9   \n",
      "3             9.5  ...            0.8                 3.0               2.0   \n",
      "4             1.0  ...            1.1                 4.0               2.4   \n",
      "\n",
      "   tranquilizer-frequency  stimulant-use stimulant-frequency  meth-use  \\\n",
      "0                    52.0            0.2                 2.0       0.0   \n",
      "1                    25.5            0.3                 4.0       0.1   \n",
      "2                     5.0            0.8                12.0       0.1   \n",
      "3                     4.5            1.5                 6.0       0.3   \n",
      "4                    11.0            1.8                 9.5       0.3   \n",
      "\n",
      "   meth-frequency  sedative-use sedative-frequency  \n",
      "0               -           0.2               13.0  \n",
      "1             5.0           0.1               19.0  \n",
      "2            24.0           0.2               16.5  \n",
      "3            10.5           0.4               30.0  \n",
      "4            36.0           0.2                3.0  \n",
      "\n",
      "[5 rows x 28 columns]\n"
     ]
    }
   ],
   "source": [
    "file = 'drug-use-by-age.csv'\n",
    "df = pd.read_csv(file)\n",
    "print(df.head())"
   ]
  },
  {
   "cell_type": "code",
   "execution_count": 3,
   "id": "24f43a4b",
   "metadata": {},
   "outputs": [
    {
     "name": "stdout",
     "output_type": "stream",
     "text": [
      "   MarijuanaFrequency  freq\n",
      "3                 4.0     1\n",
      "4                15.0     1\n",
      "5                24.0     1\n",
      "6                25.0     1\n",
      "7                30.0     1\n",
      "2                36.0     2\n",
      "9                48.0     1\n",
      "0                52.0     5\n",
      "1                60.0     3\n",
      "8                72.0     1\n"
     ]
    }
   ],
   "source": [
    "col = 'marijuana-frequency'\n",
    "col_name = 'MarijuanaFrequency'\n",
    "freq = df[col].value_counts().rename_axis(col_name).reset_index(name='freq')\n",
    "freq = freq.sort_values(by = col_name)\n",
    "print(freq)"
   ]
  },
  {
   "cell_type": "code",
   "execution_count": 4,
   "id": "789fdb8a",
   "metadata": {},
   "outputs": [
    {
     "data": {
      "text/plain": [
       "[25, 61, 235, 534, 3045, 9076]"
      ]
     },
     "execution_count": 4,
     "metadata": {},
     "output_type": "execute_result"
    }
   ],
   "source": [
    "def selection_sort(x):\n",
    "    for i in range(len(x)):\n",
    "        swap = i + np.argmin(x[i:])\n",
    "        (x[i], x[swap]) = (x[swap], x[i])\n",
    "        #it sorts one datum with the minimum unless the minimum is at the beginning of the list, and the rest follows\n",
    "    return x\n",
    "\n",
    "selection_sort([534, 25, 61, 235, 9076, 3045])\n",
    "\n",
    "#I don't remember how to take column data into a list\n",
    "\n",
    "#marijuanaList = []        \n",
    "#for x in marijuana-frquency:\n",
    "#   marijuanalist.append(marijuanaList)\n",
    "#return marijuanaList"
   ]
  }
 ],
 "metadata": {
  "kernelspec": {
   "display_name": "Python 3 (ipykernel)",
   "language": "python",
   "name": "python3"
  },
  "language_info": {
   "codemirror_mode": {
    "name": "ipython",
    "version": 3
   },
   "file_extension": ".py",
   "mimetype": "text/x-python",
   "name": "python",
   "nbconvert_exporter": "python",
   "pygments_lexer": "ipython3",
   "version": "3.9.12"
  }
 },
 "nbformat": 4,
 "nbformat_minor": 5
}
